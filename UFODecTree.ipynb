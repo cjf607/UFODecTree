{
 "cells": [
  {
   "cell_type": "code",
   "execution_count": 1,
   "id": "84c3fd37",
   "metadata": {},
   "outputs": [],
   "source": [
    "#By Chad Fike\n",
    "\n",
    "#Decision trees can classify categories and that is what we are doing here - a binary classification according to a condition. Decision trees also\n",
    "#have the benefit of being a bit more insensitive to outliers which I felt like this dataset would have considering its \n",
    "#wide distribution. Decision trees are also better able to detect which feature is having more of an impact on a target feature\n",
    "#which I think I demonstrated that the pop feature had much more impact on a classification outcome than income (since sightings\n",
    "#one could assume would be correlated with the population at large. Overall, I think the high accuracy of the model demonstrates \n",
    "#that I make a good choice by using a decision tree classifier for this problem. \n",
    "# import libraries\n",
    "\n",
    "import pandas as pd\n",
    "import numpy as np\n",
    "from sklearn.tree import DecisionTreeClassifier\n",
    "from sklearn.model_selection import train_test_split\n",
    "from sklearn.metrics import accuracy_score"
   ]
  },
  {
   "cell_type": "code",
   "execution_count": 2,
   "id": "b2f97df6",
   "metadata": {},
   "outputs": [],
   "source": [
    "#Import the ufo csv file into a pandas dataframe\n",
    "\n",
    "ufo_data = pd.read_csv(\"county-data.csv\")"
   ]
  },
  {
   "cell_type": "code",
   "execution_count": 3,
   "id": "3da916c2",
   "metadata": {},
   "outputs": [
    {
     "name": "stdout",
     "output_type": "stream",
     "text": [
      "   subregion          region     pop  income   ipaddr  ufo2010\n",
      "0  abbeville  south carolina   25101   34670    30330        2\n",
      "1     acadia       louisiana   61912   37970    38203        6\n",
      "2   accomack        virginia   33341   41595    41338        2\n",
      "3        ada           idaho  409061   55304  1035427       59\n",
      "4      adair            iowa    7481   47623     3762        0\n"
     ]
    }
   ],
   "source": [
    "#Printing example rows from csv to provide familiarization of the data\n",
    "#.head() is a pandas function that can be used on a dataframe to print the param n number of records\n",
    "print(ufo_data.head(5))"
   ]
  },
  {
   "cell_type": "code",
   "execution_count": 4,
   "id": "0e099352",
   "metadata": {},
   "outputs": [],
   "source": [
    "#splitting the data into domain (X) and range (y) values\n",
    "#We are predicting based on income and population alone. Only these 2 features needed for predictions.\n",
    "#Adding unescessary features like ipaddr or region(state) would cause data leakage (overfitting)\n",
    "\n",
    "X = ufo_data[[\"pop\", \"income\"]]"
   ]
  },
  {
   "cell_type": "code",
   "execution_count": 5,
   "id": "3e7c5f67",
   "metadata": {},
   "outputs": [],
   "source": [
    "#Setting a binary classification target based on UFO sightings > 333 using np.where() to create condition\n",
    "#So if pred value > 333 it is categorized as Substantial UFO Appearances and <= 333 as No Substantial UFO Appearances\n",
    "#np.where() acts as a simple Where True, yield x, otherwise yield y - a Binary Classification\n",
    "#Our condition being Where 'ufo2010' > 333, yield 'Substantial UFO appearances', otherwise yield 'No Substantial UFO appearances'\n",
    "\n",
    "y = np.where(ufo_data['ufo2010'] > 333, 'Substantial UFO appearances', 'No Substantial UFO appearances')"
   ]
  },
  {
   "cell_type": "code",
   "execution_count": 6,
   "id": "01ef76e2",
   "metadata": {},
   "outputs": [],
   "source": [
    "#Split data into training and testing sets\n",
    "#X will become our train/test independent variables and y our train/test target variables\n",
    "#Dr. Brown taught me  0.25 is good split ratio\n",
    "#Setting random state (a random seed) to 25 for verification/replication purposes\n",
    "\n",
    "X_train, X_test, y_train, y_test = train_test_split(X, y, test_size = 0.20, random_state = 55)"
   ]
  },
  {
   "cell_type": "code",
   "execution_count": 7,
   "id": "75ee4a4e",
   "metadata": {},
   "outputs": [],
   "source": [
    "#Decision tree classifier\n",
    "#Simple default argument with no extra params\n",
    "#This is the algorithm that our model will use provided by sklearn.tree\n",
    "\n",
    "clf = DecisionTreeClassifier()"
   ]
  },
  {
   "cell_type": "code",
   "execution_count": 8,
   "id": "de503a4f",
   "metadata": {},
   "outputs": [
    {
     "data": {
      "text/html": [
       "<style>#sk-container-id-1 {color: black;background-color: white;}#sk-container-id-1 pre{padding: 0;}#sk-container-id-1 div.sk-toggleable {background-color: white;}#sk-container-id-1 label.sk-toggleable__label {cursor: pointer;display: block;width: 100%;margin-bottom: 0;padding: 0.3em;box-sizing: border-box;text-align: center;}#sk-container-id-1 label.sk-toggleable__label-arrow:before {content: \"▸\";float: left;margin-right: 0.25em;color: #696969;}#sk-container-id-1 label.sk-toggleable__label-arrow:hover:before {color: black;}#sk-container-id-1 div.sk-estimator:hover label.sk-toggleable__label-arrow:before {color: black;}#sk-container-id-1 div.sk-toggleable__content {max-height: 0;max-width: 0;overflow: hidden;text-align: left;background-color: #f0f8ff;}#sk-container-id-1 div.sk-toggleable__content pre {margin: 0.2em;color: black;border-radius: 0.25em;background-color: #f0f8ff;}#sk-container-id-1 input.sk-toggleable__control:checked~div.sk-toggleable__content {max-height: 200px;max-width: 100%;overflow: auto;}#sk-container-id-1 input.sk-toggleable__control:checked~label.sk-toggleable__label-arrow:before {content: \"▾\";}#sk-container-id-1 div.sk-estimator input.sk-toggleable__control:checked~label.sk-toggleable__label {background-color: #d4ebff;}#sk-container-id-1 div.sk-label input.sk-toggleable__control:checked~label.sk-toggleable__label {background-color: #d4ebff;}#sk-container-id-1 input.sk-hidden--visually {border: 0;clip: rect(1px 1px 1px 1px);clip: rect(1px, 1px, 1px, 1px);height: 1px;margin: -1px;overflow: hidden;padding: 0;position: absolute;width: 1px;}#sk-container-id-1 div.sk-estimator {font-family: monospace;background-color: #f0f8ff;border: 1px dotted black;border-radius: 0.25em;box-sizing: border-box;margin-bottom: 0.5em;}#sk-container-id-1 div.sk-estimator:hover {background-color: #d4ebff;}#sk-container-id-1 div.sk-parallel-item::after {content: \"\";width: 100%;border-bottom: 1px solid gray;flex-grow: 1;}#sk-container-id-1 div.sk-label:hover label.sk-toggleable__label {background-color: #d4ebff;}#sk-container-id-1 div.sk-serial::before {content: \"\";position: absolute;border-left: 1px solid gray;box-sizing: border-box;top: 0;bottom: 0;left: 50%;z-index: 0;}#sk-container-id-1 div.sk-serial {display: flex;flex-direction: column;align-items: center;background-color: white;padding-right: 0.2em;padding-left: 0.2em;position: relative;}#sk-container-id-1 div.sk-item {position: relative;z-index: 1;}#sk-container-id-1 div.sk-parallel {display: flex;align-items: stretch;justify-content: center;background-color: white;position: relative;}#sk-container-id-1 div.sk-item::before, #sk-container-id-1 div.sk-parallel-item::before {content: \"\";position: absolute;border-left: 1px solid gray;box-sizing: border-box;top: 0;bottom: 0;left: 50%;z-index: -1;}#sk-container-id-1 div.sk-parallel-item {display: flex;flex-direction: column;z-index: 1;position: relative;background-color: white;}#sk-container-id-1 div.sk-parallel-item:first-child::after {align-self: flex-end;width: 50%;}#sk-container-id-1 div.sk-parallel-item:last-child::after {align-self: flex-start;width: 50%;}#sk-container-id-1 div.sk-parallel-item:only-child::after {width: 0;}#sk-container-id-1 div.sk-dashed-wrapped {border: 1px dashed gray;margin: 0 0.4em 0.5em 0.4em;box-sizing: border-box;padding-bottom: 0.4em;background-color: white;}#sk-container-id-1 div.sk-label label {font-family: monospace;font-weight: bold;display: inline-block;line-height: 1.2em;}#sk-container-id-1 div.sk-label-container {text-align: center;}#sk-container-id-1 div.sk-container {/* jupyter's `normalize.less` sets `[hidden] { display: none; }` but bootstrap.min.css set `[hidden] { display: none !important; }` so we also need the `!important` here to be able to override the default hidden behavior on the sphinx rendered scikit-learn.org. See: https://github.com/scikit-learn/scikit-learn/issues/21755 */display: inline-block !important;position: relative;}#sk-container-id-1 div.sk-text-repr-fallback {display: none;}</style><div id=\"sk-container-id-1\" class=\"sk-top-container\"><div class=\"sk-text-repr-fallback\"><pre>DecisionTreeClassifier()</pre><b>In a Jupyter environment, please rerun this cell to show the HTML representation or trust the notebook. <br />On GitHub, the HTML representation is unable to render, please try loading this page with nbviewer.org.</b></div><div class=\"sk-container\" hidden><div class=\"sk-item\"><div class=\"sk-estimator sk-toggleable\"><input class=\"sk-toggleable__control sk-hidden--visually\" id=\"sk-estimator-id-1\" type=\"checkbox\" checked><label for=\"sk-estimator-id-1\" class=\"sk-toggleable__label sk-toggleable__label-arrow\">DecisionTreeClassifier</label><div class=\"sk-toggleable__content\"><pre>DecisionTreeClassifier()</pre></div></div></div></div></div>"
      ],
      "text/plain": [
       "DecisionTreeClassifier()"
      ]
     },
     "execution_count": 8,
     "metadata": {},
     "output_type": "execute_result"
    }
   ],
   "source": [
    "#Fit Dec Tree model to the training data\n",
    "#.fit() will actually do the training. It is training the independent variables (X_train) on the target (y_train) (this is our\n",
    "#binary classification from above). Will learn how to predict based on income and pop\n",
    "clf.fit(X_train, y_train)\n"
   ]
  },
  {
   "cell_type": "code",
   "execution_count": 9,
   "id": "f8ec4f1e",
   "metadata": {},
   "outputs": [],
   "source": [
    "#predict y utilzing X_test\n",
    "#i.e. predicting the X_test category based on the model trained on X_train\n",
    "#So we are seeing how well it predicts on data it was not trained on. The test was excluded from X_test \n",
    "#when we train_test_split above\n",
    "\n",
    "y_pred = clf.predict(X_test)"
   ]
  },
  {
   "cell_type": "code",
   "execution_count": 10,
   "id": "317d3aab",
   "metadata": {},
   "outputs": [
    {
     "name": "stdout",
     "output_type": "stream",
     "text": [
      "0.9983739837398374\n"
     ]
    }
   ],
   "source": [
    "#Overall accuracy score for all classes\n",
    "#Our two arguments are the y_test and y_pred. It is comparing the actual binary category for the test data and verifying\n",
    "#the percentage that the model predicted correct.\n",
    "#EX) if a test data record actually had 'ufo2010' = 55, and the model had a y_pred of 'No Substantial UFO Appearances'\n",
    "#Then it predicted correct. Calculating overalll percentage of correct guesses. \n",
    "#Essentially, how good is our model?\n",
    "\n",
    "acc = accuracy_score(y_test, y_pred)\n",
    "print(acc)"
   ]
  },
  {
   "cell_type": "code",
   "execution_count": 11,
   "id": "8633b998",
   "metadata": {},
   "outputs": [
    {
     "name": "stdout",
     "output_type": "stream",
     "text": [
      "low population prediction['No Substantial UFO appearances']\n",
      "high population prediction['Substantial UFO appearances']\n"
     ]
    }
   ],
   "source": [
    "#I was skeptical of the high accuracy of my dec tree model so I made example predictor\n",
    "#There are only 3 records in the csv where 'ufo2010' > 333\n",
    "#So model is essentially predicting based off population and I think perhaps slightly above average income\n",
    "#The three regions are maricopa, LA, and cook, also the highest populated regions\n",
    "#Model seems to transition prediction around ~4 million population mark for region\n",
    "\n",
    "# create a new DataFrame with population and income values\n",
    "#EX 1) pop = 3 million, income = 55,000\n",
    "#So low UFO sightings\n",
    "\n",
    "new_data1 = pd.DataFrame({'pop': [3000000], 'income': [55000]})\n",
    "\n",
    "#EX 2) pop = 4 million, income = 55,000\n",
    "#So high UFO sightings\n",
    "\n",
    "new_data2 = pd.DataFrame({'pop': [4000000], 'income': [55000]})\n",
    "\n",
    "# make predictions with the trained classifier\n",
    "\n",
    "prediction1 = clf.predict(new_data1)\n",
    "prediction2 = clf.predict(new_data2)\n",
    "\n",
    "#Print out our two predictions to demonstrate\n",
    "\n",
    "print('low population prediction' + str(prediction1))\n",
    "print('high population prediction' + str(prediction2))"
   ]
  },
  {
   "cell_type": "code",
   "execution_count": null,
   "id": "28394055",
   "metadata": {},
   "outputs": [],
   "source": []
  },
  {
   "cell_type": "code",
   "execution_count": null,
   "id": "73b7a8c7",
   "metadata": {},
   "outputs": [],
   "source": []
  },
  {
   "cell_type": "code",
   "execution_count": null,
   "id": "16467476",
   "metadata": {},
   "outputs": [],
   "source": []
  }
 ],
 "metadata": {
  "kernelspec": {
   "display_name": "Python 3 (ipykernel)",
   "language": "python",
   "name": "python3"
  },
  "language_info": {
   "codemirror_mode": {
    "name": "ipython",
    "version": 3
   },
   "file_extension": ".py",
   "mimetype": "text/x-python",
   "name": "python",
   "nbconvert_exporter": "python",
   "pygments_lexer": "ipython3",
   "version": "3.10.7"
  }
 },
 "nbformat": 4,
 "nbformat_minor": 5
}
